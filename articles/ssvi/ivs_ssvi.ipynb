{
 "cells": [
  {
   "cell_type": "markdown",
   "id": "bc295e1c-a49d-4dc9-97e4-e5214fa2c371",
   "metadata": {},
   "source": [
    "## Calibrate an implied volatility surface - SSVI - Part 1 / static"
   ]
  },
  {
   "cell_type": "markdown",
   "id": "6b215710-ab23-4549-80af-370c6a83f1a3",
   "metadata": {},
   "source": [
    "This notebook can be cloned from [my GitHub -> research -> articles](https://github.com/se-l/research)\n",
    "\n",
    "There are numerous papers on calibrating implied volatility surface. Here, I take a look at SSVI applied to a day of FDX just before and after their corporate earnings announcement. I want to see the quality of fit and how the model parameters behave throughout the day and an across earnings announcement. Regarding fit, I would want:  \n",
    "- A model that fits actual fill IVs and is always within the bid/ask spread.\n",
    "- Fitting error plotted with respect to tenor and moneyness.\n",
    "\n",
    "SSVI stands for Surface Stochastic Volatility Inspired. The approach has been applied from: [No arbitrage global parametrization for the eSSVI volatility, A. Mingon 2022](https://arxiv.org/abs/2204.00312) which itself is extended from extended from [The extended SSVI volatility surface, Hendriks, Martini 2017](https://papers.ssrn.com/sol3/papers.cfm?abstract_id=2971502) and Gathedral (2012).\n",
    "\n",
    "A slice of the surface's total implied variance is defined as:  \n",
    "$\n",
    "eSSVI(K, T) = \\dfrac{1}{2} (\\theta(T) + \\rho(T)\\psi(T)k + \\sqrt{(\\psi(T)k + \\theta(T)\\rho(T))^2 + \\theta(T)^2(1-\\rho(T)^2)})\n",
    "$\n",
    "\n",
    "where the log-forward-moneyness $\n",
    "k = log \\dfrac{K}{F_0(T)}\n",
    "$, with $K$ being the option strike and $F_0$(T) the forward.\n",
    "\n",
    "and the implied volatility can be recovered with  \n",
    "$\n",
    "\\sigma_{imp}(K, T) = \\sqrt{\\dfrac{eSSVI(K,T)}{T}}\n",
    "$\n",
    "\n",
    "Let's start minimizing for those slice-wise equations without *global* surface optimization, so constraints to exclude calendar arbitrage.\n",
    " ρ2) .\n",
    "e"
   ]
  },
  {
   "cell_type": "markdown",
   "id": "b38fe67a-d482-49e1-a80d-2f904234c019",
   "metadata": {},
   "source": [
    "You can skip the code blocks. Briefly, it:  \n",
    "- Imports few bits so you can reproduce this\n",
    "- Loads & scopes data. IVs have been pre-calculated. This is not about using QuantLib now\n",
    "- Calibrates with a custom IV surface class that uses scipy.optimize for a least-squares optimizing minimizing RMSE of sample prices vs the model prices."
   ]
  },
  {
   "cell_type": "code",
   "execution_count": 1,
   "id": "cf94f5b0-3fcd-4a3f-9f0a-18b576311ff1",
   "metadata": {},
   "outputs": [],
   "source": [
    "import sys, os\n",
    "from pathlib import Path\n",
    "sys.path.append(str(Path(os.getcwd()).parent.parent))"
   ]
  },
  {
   "cell_type": "code",
   "execution_count": 2,
   "id": "e5d8ea38-ebb0-4135-9da8-452dc8cd4347",
   "metadata": {},
   "outputs": [
    {
     "name": "stdout",
     "output_type": "stream",
     "text": [
      "2024-06-25\n"
     ]
    }
   ],
   "source": [
    "import numpy as np\n",
    "import pickle\n",
    "import QuantLib as ql\n",
    "import pandas as pd\n",
    "\n",
    "from typing import List\n",
    "from datetime import timedelta, date, time\n",
    "from IPython.display import IFrame\n",
    "\n",
    "from options.client import Client\n",
    "from options.helper import get_dividend_yield, historical_volatility, get_tenor, unpack_mi_df_index\n",
    "from options.typess.calibration_item import CalibrationItem, df2calibration_items\n",
    "from options.typess.enums import Resolution, SecurityType, OptionRight, TickType\n",
    "from options.typess.equity import Equity\n",
    "from options.typess.iv_surface_essvi import CalibrationItem, IVSurface\n",
    "from shared.constants import EarningsPreSessionDates, DiscountRateMarket\n",
    "from shared.plotting import plot_scatter_3d\n",
    "from options.typess.equity import Equity\n",
    "\n",
    "release_date = date(2024, 6, 25)\n",
    "equity = Equity('FDX')\n",
    "sym = equity.symbol.lower()\n",
    "moneyness_fit = 'moneyness_fwd_ln'\n",
    "iv_col_nm = 'mid_price_iv'\n",
    "weight_col_nm = 'volume'\n",
    "min_mny = -0.3\n",
    "max_mny = 0.3\n",
    "rate = DiscountRateMarket\n",
    "dividend_yield = get_dividend_yield(sym)\n",
    "print(release_date)"
   ]
  },
  {
   "cell_type": "markdown",
   "id": "1b1ef6d2-0cc3-402a-9242-83d615e6e47b",
   "metadata": {},
   "source": [
    "### Load & Scope"
   ]
  },
  {
   "cell_type": "code",
   "execution_count": 3,
   "id": "efe0ee4e-d81b-4bc3-8f99-d0448dd6ccee",
   "metadata": {},
   "outputs": [],
   "source": [
    "def scope_df(x: pd.DataFrame):\n",
    "    return x[(x[moneyness_fit] < max_mny) & (x[moneyness_fit] > min_mny)]\n",
    "\n",
    "\n",
    "def get_df_xy(df: pd.DataFrame, dates: List[date]):\n",
    "\n",
    "    if all((c in df.columns for c in ('bid_iv', 'ask_iv'))):\n",
    "        df = df[(df['bid_iv'] < 4) & (df['ask_iv'] < 4)]\n",
    "    elif all((c in df.columns for c in ('fill_iv', ))):\n",
    "        df = df[df['fill_iv'] < 4]\n",
    "\n",
    "    # Scope by time of day\n",
    "    v_ts = df.index.get_level_values('ts').unique()\n",
    "    v_ts_scoped = v_ts[np.isin(v_ts.date, np.array(dates)) & (v_ts.hour >= 10) & (v_ts.hour <= 16)]\n",
    "\n",
    "    return df.loc[v_ts_scoped]"
   ]
  },
  {
   "cell_type": "code",
   "execution_count": 4,
   "id": "d003c425-8089-40b5-b577-091d1b60f6e2",
   "metadata": {},
   "outputs": [],
   "source": [
    "df = pd.read_excel('df_quotes.xlsx')\n",
    "df['expiry'] = df['expiry'].apply(lambda x: x.date() if isinstance(x, pd.Timestamp) else x)\n",
    "df = df.set_index(['ts', 'expiry', 'strike', 'right'])\n",
    "df['mid_price'] = (df['ask_close'] + df['bid_close'])/2\n",
    "\n",
    "df_trades = pd.read_excel('df_trades.xlsx')\n",
    "df_trades['expiry'] = df_trades['expiry'].apply(lambda x: x.date() if isinstance(x, pd.Timestamp) else x)\n",
    "df_trades = df_trades.set_index(['ts', 'expiry', 'strike', 'right'])"
   ]
  },
  {
   "cell_type": "code",
   "execution_count": 5,
   "id": "9173442e-bc87-4056-9937-99e7d8f3ddeb",
   "metadata": {},
   "outputs": [],
   "source": [
    "release_date_p1 = [d.date() for d in (pd.date_range(release_date, release_date + timedelta(days=1), freq='D'))][-1]\n",
    "\n",
    "df_q_pre = get_df_xy(df, [release_date])\n",
    "df_q_post = get_df_xy(df, [release_date_p1])\n",
    "df_t_pre = get_df_xy(df_trades, [release_date])\n",
    "df_t_post = get_df_xy(df_trades, [release_date_p1])"
   ]
  },
  {
   "cell_type": "markdown",
   "id": "1040f6ca-09f7-4c2c-b8b8-ecc03d2572cc",
   "metadata": {},
   "source": [
    "### Calibrate"
   ]
  },
  {
   "cell_type": "markdown",
   "id": "83a8a7e6-324c-4bc4-afed-314f1c625e49",
   "metadata": {},
   "source": [
    "The RMSE is calculated based on differences in option PRICES, not IVs.\n",
    "First I fitted IV directly, then prices and finally implemented the reparameterization discussed in the paper to fit an arbitrage-free surface.\n",
    "The samples fitted are a union on quotes (mid price) and trades (fill price) of the entire day. Mid-prices can have fairly significant intraday deviation when spreads are large, something to be mindful when fitting snapshots."
   ]
  },
  {
   "cell_type": "code",
   "execution_count": 6,
   "id": "0724e63d-27a5-4636-8545-8a5f4ec9fc0a",
   "metadata": {},
   "outputs": [
    {
     "name": "stderr",
     "output_type": "stream",
     "text": [
      "2024-08-19 14:49:33,443 - INFO Calibrating FDX call. # tenors: 17. # samples: 17. # params: 51\n",
      "2024-08-19 14:49:42,629 - INFO Calibrated in 9.19sec for FDX call total_rmse=0.7377322422072511\n",
      "2024-08-19 14:49:42,631 - INFO Calibrating FDX put. # tenors: 17. # samples: 17. # params: 51\n",
      "2024-08-19 14:49:47,891 - INFO Calibrated in 5.26sec for FDX put total_rmse=1.645647593939007\n"
     ]
    }
   ],
   "source": [
    "%%capture\n",
    "ivs_0 = IVSurface(equity)\n",
    "\n",
    "calibration_items_bid = df2calibration_items(scope_df(df_q_pre), release_date, iv_col_nm='bid_iv', price_col_nm='bid_close', spot_col_nm='spot', rf=rate, dividend_yield=dividend_yield, weight_col_nm='vega_mid_iv')\n",
    "calibration_items_ask = df2calibration_items(scope_df(df_q_pre), release_date, iv_col_nm='ask_iv', price_col_nm='ask_close', spot_col_nm='spot', rf=rate, dividend_yield=dividend_yield, weight_col_nm='vega_mid_iv')\n",
    "calibration_items_quotes = df2calibration_items(scope_df(df_q_pre), release_date, iv_col_nm='mid_price_iv', price_col_nm='mid_price', spot_col_nm='spot', rf=rate, dividend_yield=dividend_yield, weight_col_nm='vega_mid_iv')\n",
    "calibration_items_fill = df2calibration_items(scope_df(df_t_pre), release_date, iv_col_nm='fill_iv', price_col_nm='close', spot_col_nm='spot', rf=rate, dividend_yield=dividend_yield, weight_col_nm='vega_fill_iv', vega_col_nm='vega_fill_iv')\n",
    "\n",
    "# To be weighted\n",
    "calibration_items = calibration_items_fill + calibration_items_quotes\n",
    "\n",
    "# Fit entire surface\n",
    "for right in [OptionRight.call, OptionRight.put]:\n",
    "    samples = {item.tenor_dt: item for item in calibration_items if item.right == right}\n",
    "    ivs_0.calibrate_surface(right, samples)"
   ]
  },
  {
   "cell_type": "markdown",
   "id": "de6cdaf3-6816-4c21-8001-d3c7d7501a2f",
   "metadata": {},
   "source": [
    "The only constraint: $\\theta$ > 0, that is, the implied ATM variance is never negative."
   ]
  },
  {
   "cell_type": "markdown",
   "id": "79a95090-d51f-43cd-bda1-fc848ab85298",
   "metadata": {},
   "source": [
    "##### Plot Surface\n",
    "I used actual trades between 10am and 4pm. One may want to use snaps, shorter timeperiods, moving windows (getting to that in part 2)  "
   ]
  },
  {
   "cell_type": "code",
   "execution_count": 7,
   "id": "487be07a-0ae5-4be7-88d4-2a61c3f19ffd",
   "metadata": {},
   "outputs": [
    {
     "data": {
      "text/html": [
       "\n",
       "        <iframe\n",
       "            width=\"100%\"\n",
       "            height=\"800\"\n",
       "            src=\"figures/ivs_0.html\"\n",
       "            frameborder=\"0\"\n",
       "            allowfullscreen\n",
       "            \n",
       "        ></iframe>\n",
       "        "
      ],
      "text/plain": [
       "<IPython.lib.display.IFrame at 0x2537a2b7ed0>"
      ]
     },
     "execution_count": 7,
     "metadata": {},
     "output_type": "execute_result"
    }
   ],
   "source": [
    "fn = 'ivs_0.html'\n",
    "ivs_0.plot_surface(fn=fn, open_browser=False)\n",
    "IFrame(src='figures/' + fn, width='100%', height=800)"
   ]
  },
  {
   "cell_type": "markdown",
   "id": "29e6be38-dd83-4468-9911-e364aa2384a0",
   "metadata": {},
   "source": [
    "Let's look at a well matching slice and not so well matching slice. Weight is vega."
   ]
  },
  {
   "cell_type": "code",
   "execution_count": 8,
   "id": "8559b948-3138-42cd-8564-a3fcb9330add",
   "metadata": {},
   "outputs": [],
   "source": [
    "# Calling \n",
    "# ivs_0.plot_all_smiles(release_date, calibration_items_bid=calibration_items_bid, calibration_items_ask=calibration_items_ask)\n",
    "# ivs_0.plot_all_prices(release_date, calibration_items_bid=calibration_items_bid, calibration_items_ask=calibration_items_ask)\n",
    "# plots all smiles and price"
   ]
  },
  {
   "cell_type": "code",
   "execution_count": 9,
   "id": "01d70982-c203-4e79-a8b5-fdaca36f3961",
   "metadata": {},
   "outputs": [
    {
     "data": {
      "text/html": [
       "\n",
       "        <iframe\n",
       "            width=\"100%\"\n",
       "            height=\"600\"\n",
       "            src=\"figures/ok_smile.html\"\n",
       "            frameborder=\"0\"\n",
       "            allowfullscreen\n",
       "            \n",
       "        ></iframe>\n",
       "        "
      ],
      "text/plain": [
       "<IPython.lib.display.IFrame at 0x2537a30a750>"
      ]
     },
     "execution_count": 9,
     "metadata": {},
     "output_type": "execute_result"
    }
   ],
   "source": [
    "ix_best_slice = (date(2024, 9, 20), 'call')\n",
    "fn='ok_smile.html'\n",
    "ivs_0.plot_smile(*ix_best_slice, release_date, calibration_items_bid=calibration_items_bid, calibration_items_ask=calibration_items_ask, fn=fn, open_browser=False)\n",
    "IFrame(src='figures/' + fn, width='100%', height=600)"
   ]
  },
  {
   "cell_type": "markdown",
   "id": "6e506644-5af1-4eb5-9bf3-719d175252f1",
   "metadata": {},
   "source": [
    "The quotes dominate the chart. One needs to zoom in to see the layering from top to bottom of ask IV/price, traded and fitted IV/price and bid IV/price."
   ]
  },
  {
   "cell_type": "code",
   "execution_count": 10,
   "id": "3012d2fb-af08-4e1f-8a7f-de08de99db84",
   "metadata": {},
   "outputs": [
    {
     "data": {
      "text/html": [
       "\n",
       "        <iframe\n",
       "            width=\"100%\"\n",
       "            height=\"600\"\n",
       "            src=\"figures/ok_price.html\"\n",
       "            frameborder=\"0\"\n",
       "            allowfullscreen\n",
       "            \n",
       "        ></iframe>\n",
       "        "
      ],
      "text/plain": [
       "<IPython.lib.display.IFrame at 0x25367dc32d0>"
      ]
     },
     "execution_count": 10,
     "metadata": {},
     "output_type": "execute_result"
    }
   ],
   "source": [
    "fn='ok_price.html'\n",
    "ivs_0.plot_prices(*ix_best_slice, release_date, calibration_items_bid=calibration_items_bid, calibration_items_ask=calibration_items_ask, fn=fn, open_browser=False)\n",
    "IFrame(src='figures/' + fn, width='100%', height=600)"
   ]
  },
  {
   "cell_type": "markdown",
   "id": "6e769092-85d2-44f7-a265-1c91c66e736e",
   "metadata": {},
   "source": [
    "Now an example of a bad fit. Left side. The fitted IV is beyond the bid ask section in the low-strike region (left). A number of puts showcase this, getting better as the tenor increases. Changes to the weights, parameter bounds and simply hard conditions being within bid-ask spread may improve this. This data is fitted throughout the entire day's quotes, being within bid-ask may not yield a solution, but definitely worth exploring when fitting single market snap-shots."
   ]
  },
  {
   "cell_type": "code",
   "execution_count": 11,
   "id": "44a1c521-1df9-4e2a-afaf-5f9c072f6013",
   "metadata": {},
   "outputs": [
    {
     "data": {
      "text/html": [
       "\n",
       "        <iframe\n",
       "            width=\"100%\"\n",
       "            height=\"600\"\n",
       "            src=\"figures/bad_smile.html\"\n",
       "            frameborder=\"0\"\n",
       "            allowfullscreen\n",
       "            \n",
       "        ></iframe>\n",
       "        "
      ],
      "text/plain": [
       "<IPython.lib.display.IFrame at 0x2521bc90ed0>"
      ]
     },
     "execution_count": 11,
     "metadata": {},
     "output_type": "execute_result"
    }
   ],
   "source": [
    "# ix_worst_slice = ivs_t0.ps_rmse().index[ivs_t0.ps_rmse().argmax()]\n",
    "ix_worst_slice = (date(2024, 6, 28), 'put')\n",
    "fn='bad_smile.html'\n",
    "ivs_0.plot_smile(*ix_worst_slice, release_date, calibration_items_bid=calibration_items_bid, calibration_items_ask=calibration_items_ask, fn=fn, open_browser=False)\n",
    "IFrame(src='figures/' + fn, width='100%', height=600)"
   ]
  },
  {
   "cell_type": "markdown",
   "id": "034a90e8-b134-4a3b-8c22-639d51df0aa8",
   "metadata": {},
   "source": [
    "How to the fitting parameter behave across tenors? \n",
    "- The fitting error is clearly very elevated for the shortest expiry. Note, this data is the last trading before a quarterly earnings release.\n",
    "- An arbitrage free conditions is for theta to always increase. That looks good. Other conditioned will be investigated later. "
   ]
  },
  {
   "cell_type": "markdown",
   "id": "665284a6-22fd-4f2e-b558-c5d8993137f4",
   "metadata": {},
   "source": [
    "There's a sign reversal for Rho / Psi for tenor=0.36. Let's plot that slice.\n",
    "\n"
   ]
  },
  {
   "cell_type": "code",
   "execution_count": 12,
   "id": "342eb16d-a90b-4c8a-ada3-f520f7578fd9",
   "metadata": {},
   "outputs": [
    {
     "data": {
      "text/html": [
       "\n",
       "        <iframe\n",
       "            width=\"100%\"\n",
       "            height=\"600\"\n",
       "            src=\"figures/reversed_sign_params.html\"\n",
       "            frameborder=\"0\"\n",
       "            allowfullscreen\n",
       "            \n",
       "        ></iframe>\n",
       "        "
      ],
      "text/plain": [
       "<IPython.lib.display.IFrame at 0x25371c949d0>"
      ]
     },
     "execution_count": 12,
     "metadata": {},
     "output_type": "execute_result"
    }
   ],
   "source": [
    "ix_best_slice = (date(2024, 10, 18), 'call')\n",
    "fn='reversed_sign_params.html'\n",
    "ivs_0.plot_smile(*ix_best_slice, release_date, calibration_items_bid=calibration_items_bid, calibration_items_ask=calibration_items_ask, fn=fn, open_browser=False)\n",
    "IFrame(src='figures/' + fn, width='100%', height=600)"
   ]
  },
  {
   "cell_type": "code",
   "execution_count": 13,
   "id": "e04b7ff4-5550-4d15-8a47-27c19048a7dc",
   "metadata": {},
   "outputs": [
    {
     "data": {
      "text/html": [
       "\n",
       "        <iframe\n",
       "            width=\"100%\"\n",
       "            height=\"800\"\n",
       "            src=\"figures/ivs_0_params_rmse.html\"\n",
       "            frameborder=\"0\"\n",
       "            allowfullscreen\n",
       "            \n",
       "        ></iframe>\n",
       "        "
      ],
      "text/plain": [
       "<IPython.lib.display.IFrame at 0x2537a186a50>"
      ]
     },
     "execution_count": 13,
     "metadata": {},
     "output_type": "execute_result"
    }
   ],
   "source": [
    "fn = 'ivs_0_params_rmse.html'\n",
    "ivs_0.plot_params_rmse(release_date, fn=fn, open_browser=False)\n",
    "IFrame(src='figures/' + fn, width='100%', height=800)"
   ]
  },
  {
   "cell_type": "markdown",
   "id": "004b8469-b983-4a8b-9246-0b18f86618db",
   "metadata": {},
   "source": [
    "### Arbitrage free surface  \n",
    "I implemented the reparameterization explained in the paper and set the bounds supposedly leading to an arb free surface. It's the key contribution the paper and here the surface plot calibrated on the exact same data set:"
   ]
  },
  {
   "cell_type": "markdown",
   "id": "7e431811-f8d7-43b2-96a2-eb6108a68d73",
   "metadata": {},
   "source": [
    "Looks okay. Reversing signs on rho and psi can lead to very similar smiles. You play with the parameters in a small app I hosted, linked from homepage.\n",
    "But to analyse the behavior of the params over time, that is not really ideal and I will likely set fitting bounds for rho accordingly, in this case, smaller than zero."
   ]
  },
  {
   "cell_type": "code",
   "execution_count": 14,
   "id": "fcf27d0d-8b1b-499b-96f8-57b1173a1905",
   "metadata": {},
   "outputs": [
    {
     "name": "stderr",
     "output_type": "stream",
     "text": [
      "2024-08-19 14:53:28,746 - INFO Calibrated in 220.04sec for FDX call total_rmse=0.8216614347268505\n",
      "2024-08-19 14:53:41,206 - INFO Calibrated in 12.46sec for FDX put total_rmse=1.7898495442234124\n"
     ]
    }
   ],
   "source": [
    "%%capture\n",
    "ivs_0_arb = IVSurface(equity)\n",
    "\n",
    "for right in [OptionRight.call, OptionRight.put]:\n",
    "    samples = {item.tenor_dt: item for item in calibration_items if item.right == right}\n",
    "    ivs_0_arb.calibrate_surface_arb_free(right, samples)"
   ]
  },
  {
   "cell_type": "code",
   "execution_count": 15,
   "id": "ca453645-d1fe-416b-accd-ba4aa39ef6eb",
   "metadata": {},
   "outputs": [
    {
     "data": {
      "text/html": [
       "\n",
       "        <iframe\n",
       "            width=\"100%\"\n",
       "            height=\"800\"\n",
       "            src=\"figures/ivs_0_arb_free.html\"\n",
       "            frameborder=\"0\"\n",
       "            allowfullscreen\n",
       "            \n",
       "        ></iframe>\n",
       "        "
      ],
      "text/plain": [
       "<IPython.lib.display.IFrame at 0x25371d34350>"
      ]
     },
     "execution_count": 15,
     "metadata": {},
     "output_type": "execute_result"
    }
   ],
   "source": [
    "fn = 'ivs_0_arb_free.html'\n",
    "ivs_0_arb.plot_surface(fn=fn, open_browser=False)\n",
    "IFrame(src='figures/' + fn, width='100%', height=800)"
   ]
  },
  {
   "cell_type": "markdown",
   "id": "5101bb27-4cef-4c36-870f-51c974c42948",
   "metadata": {},
   "source": [
    "Calibration takes significantly longer. My implementation is not optimized. For the purpose of studying the parameters over time, I stick with unconstrained fitting technique. Plotting the resulting params removed the earlier $\\rho$ $\\psi$ sign reversal and $\\psi$(tenor) is overall smoother. RMSE increase by approximately 10%"
   ]
  },
  {
   "cell_type": "code",
   "execution_count": 16,
   "id": "6a30b08a-c2ca-4845-9a1e-9ed729fc2a8d",
   "metadata": {},
   "outputs": [
    {
     "data": {
      "text/html": [
       "\n",
       "        <iframe\n",
       "            width=\"100%\"\n",
       "            height=\"800\"\n",
       "            src=\"figures/ivs_arb_free_0_params_rmse.html\"\n",
       "            frameborder=\"0\"\n",
       "            allowfullscreen\n",
       "            \n",
       "        ></iframe>\n",
       "        "
      ],
      "text/plain": [
       "<IPython.lib.display.IFrame at 0x2537b3a9450>"
      ]
     },
     "execution_count": 16,
     "metadata": {},
     "output_type": "execute_result"
    }
   ],
   "source": [
    "fn = 'ivs_arb_free_0_params_rmse.html'\n",
    "ivs_0_arb.plot_params_rmse(release_date, fn=fn, open_browser=False)\n",
    "IFrame(src='figures/' + fn, width='100%', height=800)"
   ]
  },
  {
   "cell_type": "markdown",
   "id": "c7e22d63-efcb-4a57-a0ea-4f82c7cf641f",
   "metadata": {},
   "source": [
    "#### Part 2: Dynamic\n",
    "1. How do the fitting params behave intraday and across earnings releases.\n",
    "1. Can they be used for forecasting or decent confidence intervals? "
   ]
  },
  {
   "cell_type": "code",
   "execution_count": null,
   "id": "e895a837-f8bd-4f27-801c-3f8868949c1d",
   "metadata": {},
   "outputs": [],
   "source": []
  }
 ],
 "metadata": {
  "kernelspec": {
   "display_name": "Python 3 (ipykernel)",
   "language": "python",
   "name": "python3"
  },
  "language_info": {
   "codemirror_mode": {
    "name": "ipython",
    "version": 3
   },
   "file_extension": ".py",
   "mimetype": "text/x-python",
   "name": "python",
   "nbconvert_exporter": "python",
   "pygments_lexer": "ipython3",
   "version": "3.11.5"
  }
 },
 "nbformat": 4,
 "nbformat_minor": 5
}

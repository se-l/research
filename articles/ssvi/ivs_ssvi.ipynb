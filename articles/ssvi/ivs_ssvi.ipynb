{
 "cells": [
  {
   "cell_type": "markdown",
   "id": "bc295e1c-a49d-4dc9-97e4-e5214fa2c371",
   "metadata": {},
   "source": [
    "## Calibrate an implied volatility surface - SSVI"
   ]
  },
  {
   "cell_type": "markdown",
   "id": "6b215710-ab23-4549-80af-370c6a83f1a3",
   "metadata": {},
   "source": [
    "Last Updated: **2024-07-05**  \n",
    "This notebook can be cloned from [my GitHub -> research -> articles](https://github.com/se-l/research)\n",
    "\n",
    "There are numerous papers on calibrating implied volatility surface. Here, I take a look at SSVI applied to a day of FDX just before and after their corporate earnings announcement. I want to see the quality of fit and how the model parameters behave throughout the day and across earnings announcement. Regarding fit, I would want:  \n",
    "- A model that fits actual fill IVs and is always within bid/ask.\n",
    "- Fitting error plotted with respect to tenor and moneyness.\n",
    "\n",
    "SSVI stands for Surface Stochastic Volatility Inspired. The approach has been applied from: [No arbitrage global parametrization for the eSSVI volatility, A. Mingon 2022](https://arxiv.org/abs/2204.00312) which itself is extended from extended from [The extended SSVI volatility surface, Hendriks, Martini 2017](https://papers.ssrn.com/sol3/papers.cfm?abstract_id=2971502) and Gathedral (2012).\n",
    "\n",
    "A slice of the surface's total implied variance is defined as:  \n",
    "$\n",
    "eSSVI(K, T) = \\dfrac{1}{2} (\\theta(T) + \\rho(T)\\psi(T)k + \\sqrt{(\\psi(T)k + \\theta(T)\\rho(T))^2 + \\theta(T)^2(1-\\rho(T)^2)})\n",
    "$\n",
    "\n",
    "where the log-forward-moneyness $\n",
    "k = log \\dfrac{K}{F_0(T)}\n",
    "$, with $K$ being the option strike and $F_0$(T) the forward.\n",
    "\n",
    "and the implied volatility can be recovered with  \n",
    "$\n",
    "\\sigma_{imp}(K, T) = \\sqrt{\\dfrac{eSSVI(K,T)}{T}}\n",
    "$\n",
    "\n",
    "Let's start minimizing for those slice-wise equations without *global* surface optimization, so constraints to exclude calendar arbitrage.\n",
    " ρ2) .\n",
    "e"
   ]
  },
  {
   "cell_type": "markdown",
   "id": "b38fe67a-d482-49e1-a80d-2f904234c019",
   "metadata": {},
   "source": [
    "Feel free to skip the code. It:  \n",
    "- Imports few bits so you can reproduce this\n",
    "- Loads & scopes data. IVs have been pre-calculated. This is not about using QuantLib now\n",
    "- Calibrates with a custom IV surface class that uses scipy.optimize for a least-squares optimizing minimizing RMSE of fill IVs vs the model."
   ]
  },
  {
   "cell_type": "code",
   "execution_count": 1,
   "id": "cf94f5b0-3fcd-4a3f-9f0a-18b576311ff1",
   "metadata": {},
   "outputs": [],
   "source": [
    "import sys, os\n",
    "from pathlib import Path\n",
    "sys.path.append(str(Path(os.getcwd()).parent.parent))"
   ]
  },
  {
   "cell_type": "code",
   "execution_count": 2,
   "id": "e5d8ea38-ebb0-4135-9da8-452dc8cd4347",
   "metadata": {},
   "outputs": [
    {
     "name": "stdout",
     "output_type": "stream",
     "text": [
      "2024-06-25\n"
     ]
    }
   ],
   "source": [
    "import numpy as np\n",
    "import pickle\n",
    "import QuantLib as ql\n",
    "import pandas as pd\n",
    "\n",
    "from typing import List\n",
    "from datetime import timedelta, date, time\n",
    "from IPython.display import IFrame\n",
    "\n",
    "from options.client import Client\n",
    "from options.helper import get_dividend_yield, historical_volatility, get_tenor, unpack_mi_df_index\n",
    "from options.typess.calibration_item import CalibrationItem, df2calibration_items\n",
    "from options.typess.enums import Resolution, SecurityType, OptionRight, TickType\n",
    "from options.typess.equity import Equity\n",
    "from options.typess.iv_surface_essvi import CalibrationItem, IVSurface\n",
    "from shared.constants import EarningsPreSessionDates, DiscountRateMarket\n",
    "from shared.plotting import plot_scatter_3d\n",
    "from options.typess.equity import Equity\n",
    "\n",
    "release_date = date(2024, 6, 25)\n",
    "equity = Equity('FDX')\n",
    "moneyness_fit = 'moneyness_fwd_ln'\n",
    "iv_col_nm = 'mid_price_iv'\n",
    "weight_col_nm = 'volume'\n",
    "min_mny = -0.3\n",
    "max_mny = 0.3\n",
    "print(release_date)"
   ]
  },
  {
   "cell_type": "markdown",
   "id": "1b1ef6d2-0cc3-402a-9242-83d615e6e47b",
   "metadata": {},
   "source": [
    "##### Load & Scope"
   ]
  },
  {
   "cell_type": "code",
   "execution_count": 3,
   "id": "d003c425-8089-40b5-b577-091d1b60f6e2",
   "metadata": {},
   "outputs": [],
   "source": [
    "df = pd.read_excel('df_quotes.xlsx')\n",
    "df['expiry'] = df['expiry'].apply(lambda x: x.date() if isinstance(x, pd.Timestamp) else x)\n",
    "df = df.set_index(['ts', 'expiry', 'strike', 'right'])\n",
    "\n",
    "df_trades = pd.read_excel('df_trades.xlsx')\n",
    "df_trades['expiry'] = df_trades['expiry'].apply(lambda x: x.date() if isinstance(x, pd.Timestamp) else x)\n",
    "df_trades = df_trades.set_index(['ts', 'expiry', 'strike', 'right'])"
   ]
  },
  {
   "cell_type": "code",
   "execution_count": 4,
   "id": "9173442e-bc87-4056-9937-99e7d8f3ddeb",
   "metadata": {},
   "outputs": [],
   "source": [
    "release_date_p1 = [d.date() for d in (pd.date_range(release_date, release_date + timedelta(days=1), freq='D'))][-1]\n",
    "\n",
    "# Scope by time of day excluding 0:30 -> 10\n",
    "v_ts = df.index.get_level_values('ts').unique()\n",
    "v_ts_pre_release = v_ts[(v_ts.date == release_date) & (v_ts.hour >= 10) & (v_ts.hour < 16)]\n",
    "v_ts_post_release = v_ts[(v_ts.date == release_date_p1) & (v_ts.hour >= 10) & (v_ts.hour < 16)]\n",
    "\n",
    "vt_ts = df_trades.index.get_level_values('ts').unique()\n",
    "vt_ts_pre_release = vt_ts[(vt_ts.date == release_date) & (vt_ts.hour >= 10) & (vt_ts.hour < 16)]\n",
    "vt_ts_post_release = vt_ts[(vt_ts.date == release_date_p1) & (vt_ts.hour >= 10) & (vt_ts.hour < 16)]\n",
    "\n",
    "df_q_pre = df.loc[v_ts_pre_release]\n",
    "df_q_post = df.loc[v_ts_post_release]\n",
    "df_t_pre = df_trades.loc[vt_ts_pre_release]\n",
    "df_t_post = df_trades.loc[vt_ts_post_release]"
   ]
  },
  {
   "cell_type": "markdown",
   "id": "1040f6ca-09f7-4c2c-b8b8-ecc03d2572cc",
   "metadata": {},
   "source": [
    "##### Calibrate"
   ]
  },
  {
   "cell_type": "code",
   "execution_count": 5,
   "id": "5a6390ca-3533-43f1-a6df-1bbfa5d094ab",
   "metadata": {},
   "outputs": [
    {
     "name": "stderr",
     "output_type": "stream",
     "text": [
      "2024-07-26 14:20:46,232 - INFO Calibration done for FDX total_rmse=0.6960506299548888\n"
     ]
    }
   ],
   "source": [
    "%%capture\n",
    "def scope_df(x: pd.DataFrame):\n",
    "    return x[(x[moneyness_fit] < max_mny) & (x[moneyness_fit] > min_mny)]\n",
    "\n",
    "calibration_items_fill = df2calibration_items(scope_df(df_t_pre), release_date, y_col_nm='fill_iv', weight_col_nm=weight_col_nm, vega_col_nm='vega_fill_iv')\n",
    "ivs_t0 = IVSurface(equity).calibrate(calibration_items_fill, verbose=0)\n",
    "\n",
    "calibration_items_bid = df2calibration_items(scope_df(df_q_pre), release_date, y_col_nm='bid_iv', weight_col_nm='vega_mid_iv')\n",
    "calibration_items_ask = df2calibration_items(scope_df(df_q_pre), release_date, y_col_nm='ask_iv', weight_col_nm='vega_mid_iv')"
   ]
  },
  {
   "cell_type": "markdown",
   "id": "79a95090-d51f-43cd-bda1-fc848ab85298",
   "metadata": {},
   "source": [
    "##### Plot\n",
    "I used actual trades between 10am and 3pm. One may want to use snaps, shorter timeperiods, moving windows (getting to that later)  "
   ]
  },
  {
   "cell_type": "markdown",
   "id": "14807d61-1f69-4931-9693-86bc9dde25d7",
   "metadata": {},
   "source": [
    "The whole surface:  "
   ]
  },
  {
   "cell_type": "code",
   "execution_count": 11,
   "id": "487be07a-0ae5-4be7-88d4-2a61c3f19ffd",
   "metadata": {},
   "outputs": [
    {
     "data": {
      "text/html": [
       "\n",
       "        <iframe\n",
       "            width=\"100%\"\n",
       "            height=\"800\"\n",
       "            src=\"figures/ivs.html\"\n",
       "            frameborder=\"0\"\n",
       "            allowfullscreen\n",
       "            \n",
       "        ></iframe>\n",
       "        "
      ],
      "text/plain": [
       "<IPython.lib.display.IFrame at 0x20776fef950>"
      ]
     },
     "execution_count": 11,
     "metadata": {},
     "output_type": "execute_result"
    }
   ],
   "source": [
    "fn = 'ivs.html'\n",
    "ivs_t0.plot_surface(fn=fn, open_browser=False)\n",
    "IFrame(src='figures/' + fn, width='100%', height=800)"
   ]
  },
  {
   "cell_type": "markdown",
   "id": "29e6be38-dd83-4468-9911-e364aa2384a0",
   "metadata": {},
   "source": [
    "A well matching slice. Weight is the respective trade volume. Previously, I used vega."
   ]
  },
  {
   "cell_type": "code",
   "execution_count": 12,
   "id": "01d70982-c203-4e79-a8b5-fdaca36f3961",
   "metadata": {},
   "outputs": [
    {
     "data": {
      "text/html": [
       "\n",
       "        <iframe\n",
       "            width=\"100%\"\n",
       "            height=\"600\"\n",
       "            src=\"figures/ok_smile.html\"\n",
       "            frameborder=\"0\"\n",
       "            allowfullscreen\n",
       "            \n",
       "        ></iframe>\n",
       "        "
      ],
      "text/plain": [
       "<IPython.lib.display.IFrame at 0x2077702dcd0>"
      ]
     },
     "execution_count": 12,
     "metadata": {},
     "output_type": "execute_result"
    }
   ],
   "source": [
    "# ix_best_slice = ivs_t0.ps_rmse().index[ivs_t0.ps_rmse().argmax()]\n",
    "ix_best_slice = (date(2024, 9, 20), 'call')\n",
    "fn='ok_smile.html'\n",
    "ivs_t0.plot_smile(*ix_best_slice, release_date, calibration_items_bid=calibration_items_bid, calibration_items_ask=calibration_items_ask, fn=fn, open_browser=False)\n",
    "IFrame(src='figures/' + fn, width='100%', height=600)"
   ]
  },
  {
   "cell_type": "markdown",
   "id": "6e769092-85d2-44f7-a265-1c91c66e736e",
   "metadata": {},
   "source": [
    "Now an example for a plot not well matching. Too often, the model is parabolic during a fairly linear section leading to over and under estimation making it infeasible to use for pricing."
   ]
  },
  {
   "cell_type": "code",
   "execution_count": 13,
   "id": "44a1c521-1df9-4e2a-afaf-5f9c072f6013",
   "metadata": {},
   "outputs": [
    {
     "data": {
      "text/html": [
       "\n",
       "        <iframe\n",
       "            width=\"100%\"\n",
       "            height=\"600\"\n",
       "            src=\"figures/bad_smile.html\"\n",
       "            frameborder=\"0\"\n",
       "            allowfullscreen\n",
       "            \n",
       "        ></iframe>\n",
       "        "
      ],
      "text/plain": [
       "<IPython.lib.display.IFrame at 0x2066c9f4710>"
      ]
     },
     "execution_count": 13,
     "metadata": {},
     "output_type": "execute_result"
    }
   ],
   "source": [
    "# ix_worst_slice = ivs_t0.ps_rmse().index[ivs_t0.ps_rmse().argmax()]\n",
    "ix_worst_slice = (date(2024, 7, 5), 'put')\n",
    "fn='bad_smile.html'\n",
    "ivs_t0.plot_smile(*ix_worst_slice, release_date, calibration_items_bid=calibration_items_bid, calibration_items_ask=calibration_items_ask, fn=fn, open_browser=False)\n",
    "IFrame(src='figures/' + fn, width='100%', height=600)"
   ]
  },
  {
   "cell_type": "markdown",
   "id": "034a90e8-b134-4a3b-8c22-639d51df0aa8",
   "metadata": {},
   "source": [
    "How to the fitting parameter behave across tenors? \n",
    "- The fitting error is clearly very elevated for the shortest expiry. Note, this data is the last trading before a quarterly earnings release.\n",
    "- An arbitrage free conditions is for theta to always increase. That looks good. Other conditioned will be investigated later. "
   ]
  },
  {
   "cell_type": "code",
   "execution_count": 14,
   "id": "e04b7ff4-5550-4d15-8a47-27c19048a7dc",
   "metadata": {},
   "outputs": [
    {
     "data": {
      "text/html": [
       "\n",
       "        <iframe\n",
       "            width=\"100%\"\n",
       "            height=\"800\"\n",
       "            src=\"figures/ivs_t0_params_rmse.html\"\n",
       "            frameborder=\"0\"\n",
       "            allowfullscreen\n",
       "            \n",
       "        ></iframe>\n",
       "        "
      ],
      "text/plain": [
       "<IPython.lib.display.IFrame at 0x206583c4890>"
      ]
     },
     "execution_count": 14,
     "metadata": {},
     "output_type": "execute_result"
    }
   ],
   "source": [
    "fn = 'ivs_t0_params_rmse.html'\n",
    "ivs_t0.plot_params_rmse(release_date, fn=fn, open_browser=False)\n",
    "IFrame(src='figures/' + fn, width='100%', height=800)"
   ]
  },
  {
   "cell_type": "markdown",
   "id": "7e431811-f8d7-43b2-96a2-eb6108a68d73",
   "metadata": {},
   "source": [
    "Questions to answer are:\n",
    "1. How good are the fits after enforcing conditions on the parameters to make the whole surface arb free?\n",
    "1. How is the fit after enforcing the model to be in between bid/ask prices? \n",
    "1. How come there is such a significant different between put & call slices? Put/Call parity, spread?\n",
    "1. How do the fitting params behave intraday and across earnings releases. Can they be used for forecasting? "
   ]
  },
  {
   "cell_type": "markdown",
   "id": "5bb346e4-e58c-4a09-b305-8f2ea3ed51ba",
   "metadata": {},
   "source": [
    "In order to support fitting conditions and boundaries, refactoring to using pyomo ..."
   ]
  }
 ],
 "metadata": {
  "kernelspec": {
   "display_name": "Python 3 (ipykernel)",
   "language": "python",
   "name": "python3"
  },
  "language_info": {
   "codemirror_mode": {
    "name": "ipython",
    "version": 3
   },
   "file_extension": ".py",
   "mimetype": "text/x-python",
   "name": "python",
   "nbconvert_exporter": "python",
   "pygments_lexer": "ipython3",
   "version": "3.11.5"
  }
 },
 "nbformat": 4,
 "nbformat_minor": 5
}
